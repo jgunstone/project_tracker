{
 "cells": [
  {
   "cell_type": "code",
   "execution_count": 2,
   "id": "58b81481",
   "metadata": {},
   "outputs": [],
   "source": [
    "%run __init__.py\n",
    "\n",
    "import time\n",
    "import pathlib\n",
    "import uuid\n",
    "from mf_file_utilities.applauncher_wrapper import go, get_fpth_win\n",
    "from mf_file_utilities.constants import PATH_CDRIVE\n",
    "import logging\n",
    "logger = logging"
   ]
  },
  {
   "cell_type": "code",
   "execution_count": 3,
   "id": "ba3ca239",
   "metadata": {},
   "outputs": [],
   "source": [
    "def docx_to_pdf(fpth_docx: pathlib.Path, fpth_pdf: pathlib.Path):\n",
    "    batch_name = f\"process_{str(uuid.uuid4())}\"\n",
    "    fdir_batch = pathlib.Path(fpth_docx).parent\n",
    "\n",
    "    win_path_docx = get_fpth_win(fpth_docx, newroot=PATH_CDRIVE)  # get windows path from linux path\n",
    "    win_path_pdf = get_fpth_win(fpth_pdf, newroot=PATH_CDRIVE) \n",
    "    \n",
    "    fpth_pdf.unlink(missing_ok=True)  # Delete pdf in output folder if exists\n",
    "\n",
    "    fdir_batch.mkdir(parents=True, exist_ok=True)  # Make dir if doesn't exist.\n",
    "    fn = f\"{batch_name}.bat\"  # Make batch file.\n",
    "    fpth_batch = fdir_batch / fn\n",
    "    cmd = \"call C:\\engDev\\git_mf\\docx_to_pdf\\test\\docx_to_pdf.exe --fpth_docx C:\\engDev\\git_mf\\project_tracker\\appdata\\AecTemplater\\out-AecTemplater.docx --openfile True --update_toc True\"\n",
    "    cmd = f\"\"\"call^\n",
    "\"C:\\engDev\\git_mf\\docx_to_pdf\\test\\docx_to_pdf.exe\"^\n",
    " --fpth_docx {win_path_docx}^\n",
    " --fpth_pdf {win_path_pdf}^\n",
    " --update_toc True^\n",
    " --openfile False\n",
    " \"\"\"  # cmd to perform conversion # --openfile True^\n",
    "\n",
    "    with fpth_batch.open(\"w\", encoding =\"utf-8\") as f:\n",
    "        f.write(cmd)  # write to batch file\n",
    "\n",
    "    go(fpth_batch) # open batch file\n",
    "\n",
    "    timeout = 60  # [seconds]\n",
    "    time_start = time.time()\n",
    "\n",
    "    while fpth_pdf.is_file() is False:\n",
    "        if time.time() > time_start + timeout:\n",
    "            logger.warning(\"☠️ PDF took too long to produce.\")\n",
    "            #fpth_batch.unlink(missing_ok=True)  # Delete batch file.\n",
    "            break\n",
    "    \n",
    "    if fpth_pdf.is_file() is True:  # If pdf exists then file creation has been successful.\n",
    "        logger.info(f\"👍 created pdf: {fpth_pdf}\")\n",
    "\n",
    "    #fpth_batch.unlink(missing_ok=True)  # Delete batch file.\n",
    "    return fpth_pdf"
   ]
  },
  {
   "cell_type": "code",
   "execution_count": null,
   "id": "90d38cd6",
   "metadata": {},
   "outputs": [],
   "source": [
    "if __name__ == \"__main__\":\n",
    "    fpth_docx = pathlib.Path('/home/jovyan/jobs/J5001/Jupyter/Schedule/06667-MXF-XX-XX-SH-M-20003-GrilleSchedule.docx')\n",
    "    fpth_pdf = pathlib.Path('/home/jovyan/jobs/J5001/Schedule/06667-MXF-XX-XX-SH-M-20003-GrilleSchedule.pdf')\n",
    "    docx_to_pdf(fpth_docx, fpth_pdf)"
   ]
  },
  {
   "cell_type": "code",
   "execution_count": null,
   "id": "a6fc1878",
   "metadata": {},
   "outputs": [],
   "source": []
  }
 ],
 "metadata": {
  "jupytext": {
   "encoding": "# -*- coding: utf-8 -*-",
   "formats": "ipynb,py:light",
   "text_representation": {
    "extension": ".py",
    "format_name": "light",
    "format_version": "1.5",
    "jupytext_version": "1.13.0"
   }
  },
  "kernelspec": {
   "display_name": "Python 3 (ipykernel)",
   "language": "python",
   "name": "python3"
  },
  "language_info": {
   "codemirror_mode": {
    "name": "ipython",
    "version": 3
   },
   "file_extension": ".py",
   "mimetype": "text/x-python",
   "name": "python",
   "nbconvert_exporter": "python",
   "pygments_lexer": "ipython3",
   "version": "3.9.7"
  }
 },
 "nbformat": 4,
 "nbformat_minor": 5
}
